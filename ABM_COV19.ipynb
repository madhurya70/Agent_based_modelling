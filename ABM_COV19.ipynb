{
 "cells": [
  {
   "cell_type": "code",
   "execution_count": 120,
   "id": "pending-update",
   "metadata": {},
   "outputs": [],
   "source": [
    "import osmnx as ox\n",
    "import matplotlib.pyplot as plt\n",
    "import pandas as pd\n",
    "import numpy as np"
   ]
  },
  {
   "cell_type": "code",
   "execution_count": 121,
   "id": "deadly-disorder",
   "metadata": {},
   "outputs": [],
   "source": [
    "gdf = ox.geometries.geometries_from_bbox(52.6500, 52.5900,-1.0500,-1.1600, tags = {'building':True})\n",
    "gdf1 = ox.geometries.geometries_from_bbox(52.6500, 52.5900,-1.0500,-1.1600, tags = {'amenity':True})\n"
   ]
  },
  {
   "cell_type": "code",
   "execution_count": 122,
   "id": "chronic-debate",
   "metadata": {},
   "outputs": [
    {
     "name": "stderr",
     "output_type": "stream",
     "text": [
      "C:\\Users\\madhu\\Anaconda3\\envs\\ox\\lib\\site-packages\\ipykernel\\ipkernel.py:283: DeprecationWarning: `should_run_async` will not call `transform_cell` automatically in the future. Please pass the result to `transformed_cell` argument and any exception that happen during thetransform in `preprocessing_exc_tuple` in IPython 7.17 and above.\n",
      "  and should_run_async(code)\n"
     ]
    }
   ],
   "source": [
    "gdf1.to_csv('abc2.csv')\n",
    "gdf.to_csv('abc1.csv')"
   ]
  },
  {
   "cell_type": "code",
   "execution_count": 123,
   "id": "variable-charlotte",
   "metadata": {},
   "outputs": [
    {
     "name": "stderr",
     "output_type": "stream",
     "text": [
      "C:\\Users\\madhu\\Anaconda3\\envs\\ox\\lib\\site-packages\\IPython\\core\\interactiveshell.py:3165: DtypeWarning: Columns (12,33,34,37,40,41,46,47,52,54,60,65,66,67,68,74,75,78,79,82,87,88,89,90,91,92,93,95,98,100,101,104,106,112,114,115,118,119,120,121,124,127,128,129,130,137,142,143,144,145,147,148,152,153,154,155,156,157,158,159,160,161,163,165,166,167,168,169,170,171,172,173,174,175,177,179,180,181,182,183,184,185) have mixed types.Specify dtype option on import or set low_memory=False.\n",
      "  has_raised = await self.run_ast_nodes(code_ast.body, cell_name,\n"
     ]
    }
   ],
   "source": [
    "building_info = pd.read_csv('abc3.csv')\n",
    "amenity_info = pd.read_csv('abc2.csv')"
   ]
  },
  {
   "cell_type": "code",
   "execution_count": null,
   "id": "induced-ranch",
   "metadata": {},
   "outputs": [],
   "source": []
  },
  {
   "cell_type": "code",
   "execution_count": 126,
   "id": "periodic-raleigh",
   "metadata": {},
   "outputs": [
    {
     "ename": "TypeError",
     "evalue": "list.append() takes exactly one argument (0 given)",
     "output_type": "error",
     "traceback": [
      "\u001b[1;31m---------------------------------------------------------------------------\u001b[0m",
      "\u001b[1;31mTypeError\u001b[0m                                 Traceback (most recent call last)",
      "\u001b[1;32m<ipython-input-126-9b465c54ac4e>\u001b[0m in \u001b[0;36m<module>\u001b[1;34m\u001b[0m\n\u001b[0;32m      5\u001b[0m \u001b[1;32mfor\u001b[0m \u001b[0mi\u001b[0m \u001b[1;32min\u001b[0m \u001b[0mrange\u001b[0m\u001b[1;33m(\u001b[0m\u001b[1;36m5000\u001b[0m\u001b[1;33m)\u001b[0m\u001b[1;33m:\u001b[0m\u001b[1;33m\u001b[0m\u001b[1;33m\u001b[0m\u001b[0m\n\u001b[0;32m      6\u001b[0m     \u001b[1;32mif\u001b[0m\u001b[1;33m(\u001b[0m\u001b[0mbuilding_info\u001b[0m\u001b[1;33m[\u001b[0m\u001b[1;34m'building'\u001b[0m\u001b[1;33m]\u001b[0m\u001b[1;33m[\u001b[0m\u001b[0mi\u001b[0m\u001b[1;33m]\u001b[0m \u001b[1;33m==\u001b[0m \u001b[1;34m'yes'\u001b[0m\u001b[1;33m)\u001b[0m\u001b[1;33m:\u001b[0m\u001b[1;33m\u001b[0m\u001b[1;33m\u001b[0m\u001b[0m\n\u001b[1;32m----> 7\u001b[1;33m         \u001b[0mx_lat\u001b[0m\u001b[1;33m.\u001b[0m\u001b[0mappend\u001b[0m\u001b[1;33m(\u001b[0m\u001b[1;33m)\u001b[0m\u001b[1;33m\u001b[0m\u001b[1;33m\u001b[0m\u001b[0m\n\u001b[0m\u001b[0;32m      8\u001b[0m         \u001b[0mx_log\u001b[0m\u001b[1;33m.\u001b[0m\u001b[0mappend\u001b[0m\u001b[1;33m(\u001b[0m\u001b[1;33m)\u001b[0m\u001b[1;33m\u001b[0m\u001b[1;33m\u001b[0m\u001b[0m\n\u001b[0;32m      9\u001b[0m \u001b[1;32mfor\u001b[0m \u001b[0mi\u001b[0m \u001b[1;32min\u001b[0m \u001b[0mrange\u001b[0m\u001b[1;33m(\u001b[0m\u001b[1;36m5000\u001b[0m\u001b[1;33m)\u001b[0m\u001b[1;33m:\u001b[0m\u001b[1;33m\u001b[0m\u001b[1;33m\u001b[0m\u001b[0m\n",
      "\u001b[1;31mTypeError\u001b[0m: list.append() takes exactly one argument (0 given)"
     ]
    }
   ],
   "source": [
    "x_lat = [] \n",
    "x_log =[]\n",
    "y_lat =[]\n",
    "y_log =[]\n",
    "for i in range(5000):\n",
    "    if(building_info['building'][i] == 'yes'):\n",
    "        x_lat.append()\n",
    "        x_log.append()\n",
    "for i in range(5000):\n",
    "    if(building_info['building'][i] == 'apartments'):\n",
    "        y_lat.append()\n",
    "        y_log.append()\n",
    "\n",
    "x = building_info['building'][0]\n",
    "word = \"\"\n",
    "for e in x:\n",
    "    word+= str(e)\n",
    "list1 =[]   \n",
    "list1 = word.split(\",\")        \n",
    "        \n",
    "        \n",
    "    "
   ]
  },
  {
   "cell_type": "code",
   "execution_count": 143,
   "id": "finnish-vacuum",
   "metadata": {},
   "outputs": [],
   "source": [
    "lat_household=[]\n",
    "long_household =[]\n",
    "new_abc1 = pd.read_csv('abc1.csv')\n",
    "for i in range(len(new_abc1['building'])):\n",
    "   if(new_abc1['building'][i]=='yes'):\n",
    "        x = new_abc1['geometry'][0]\n",
    "        word = \"\"\n",
    "        for e in x:\n",
    "            word+= str(e)\n",
    "        list1 =[]   \n",
    "        list1 = word.split(\",\")  \n",
    "        long_household.append(float(list1[0]))\n",
    "        lat_household.append(float(list1[0]))\n"
   ]
  },
  {
   "cell_type": "code",
   "execution_count": null,
   "id": "extensive-belarus",
   "metadata": {},
   "outputs": [],
   "source": []
  }
 ],
 "metadata": {
  "kernelspec": {
   "display_name": "Python 3",
   "language": "python",
   "name": "python3"
  },
  "language_info": {
   "codemirror_mode": {
    "name": "ipython",
    "version": 3
   },
   "file_extension": ".py",
   "mimetype": "text/x-python",
   "name": "python",
   "nbconvert_exporter": "python",
   "pygments_lexer": "ipython3",
   "version": "3.9.2"
  }
 },
 "nbformat": 4,
 "nbformat_minor": 5
}
